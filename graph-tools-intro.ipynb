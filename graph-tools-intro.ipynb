{
 "cells": [
  {
   "cell_type": "code",
   "execution_count": 364,
   "metadata": {},
   "outputs": [],
   "source": [
    "from graph_tool.all import *\n",
    "import numpy as np\n",
    "\n",
    "d = dict()\n",
    "g = Graph(directed=False)\n",
    "pos = g.new_vertex_property(\"vector<double>\")"
   ]
  },
  {
   "cell_type": "code",
   "execution_count": 365,
   "metadata": {},
   "outputs": [
    {
     "data": {
      "text/plain": [
       "'g = Graph()\\ng.set_directed(False)\\nv1 = g.add_vertex(7)\\n\\npos = g.new_vertex_property(\"vector<double>\")\\npos[g.vertex(0)] = (0, 0)\\npos[g.vertex(1)] = (1, 2)\\npos[g.vertex(2)] = (2, 0)\\npos[g.vertex(3)] = (1, -2)\\npos[g.vertex(6)] = (-1, 2)\\npos[g.vertex(5)] = (-2, 0)\\npos[g.vertex(4)] = (-1, -2)\\n\\nfor i in range(6):\\n    g.add_edge(g.vertex(0), g.vertex(i+1))\\n    if i == 5:\\n        g.add_edge(g.vertex(6), g.vertex(1))\\n        break\\n    g.add_edge(g.vertex(i+1), g.vertex(i+2))\\n    \\n\\n    \\ngraph_draw(g, pos=pos, vertex_text=g.vertex_index, vertex_font_size=18,\\n            output_size=(200, 200), output=\"two-nodes.png\")\\n'"
      ]
     },
     "execution_count": 365,
     "metadata": {},
     "output_type": "execute_result"
    }
   ],
   "source": [
    "'''g = Graph()\n",
    "g.set_directed(False)\n",
    "v1 = g.add_vertex(7)\n",
    "\n",
    "pos = g.new_vertex_property(\"vector<double>\")\n",
    "pos[g.vertex(0)] = (0, 0)\n",
    "pos[g.vertex(1)] = (1, 2)\n",
    "pos[g.vertex(2)] = (2, 0)\n",
    "pos[g.vertex(3)] = (1, -2)\n",
    "pos[g.vertex(6)] = (-1, 2)\n",
    "pos[g.vertex(5)] = (-2, 0)\n",
    "pos[g.vertex(4)] = (-1, -2)\n",
    "\n",
    "for i in range(6):\n",
    "    g.add_edge(g.vertex(0), g.vertex(i+1))\n",
    "    if i == 5:\n",
    "        g.add_edge(g.vertex(6), g.vertex(1))\n",
    "        break\n",
    "    g.add_edge(g.vertex(i+1), g.vertex(i+2))\n",
    "    \n",
    "\n",
    "    \n",
    "graph_draw(g, pos=pos, vertex_text=g.vertex_index, vertex_font_size=18,\n",
    "            output_size=(200, 200), output=\"two-nodes.png\")\n",
    "'''"
   ]
  },
  {
   "cell_type": "code",
   "execution_count": 366,
   "metadata": {},
   "outputs": [],
   "source": [
    "def right(point: np.ndarray) -> np.ndarray:\n",
    "    return (point + np.array([2,0]))"
   ]
  },
  {
   "cell_type": "code",
   "execution_count": 367,
   "metadata": {},
   "outputs": [],
   "source": [
    "def left(point: np.ndarray) -> np.ndarray:\n",
    "    return (point + np.array([-2,0]))"
   ]
  },
  {
   "cell_type": "code",
   "execution_count": 368,
   "metadata": {
    "collapsed": true
   },
   "outputs": [],
   "source": [
    "def upper_right(point: np.ndarray) -> np.ndarray:\n",
    "    return (point + np.array([1,-2]))"
   ]
  },
  {
   "cell_type": "code",
   "execution_count": 369,
   "metadata": {
    "collapsed": true
   },
   "outputs": [],
   "source": [
    "def lower_right(point: np.ndarray) -> np.ndarray:\n",
    "    return (point + np.array([1,2]))"
   ]
  },
  {
   "cell_type": "code",
   "execution_count": 370,
   "metadata": {
    "collapsed": true
   },
   "outputs": [],
   "source": [
    "def upper_left(point: np.ndarray) -> np.ndarray:\n",
    "    return (left(upper_right(point)))"
   ]
  },
  {
   "cell_type": "code",
   "execution_count": 371,
   "metadata": {
    "collapsed": true
   },
   "outputs": [],
   "source": [
    "def lower_left(point: np.ndarray) -> np.ndarray:\n",
    "    return (left(lower_right(point)))"
   ]
  },
  {
   "cell_type": "code",
   "execution_count": 372,
   "metadata": {},
   "outputs": [],
   "source": [
    "def add_lattice_edges(p):\n",
    "    start = d[tuple(p)]\n",
    "    neighbors = g.get_out_neighbors(start)\n",
    "    print(neighbors, p)\n",
    "    end = 0\n",
    "    try:\n",
    "        end = d[tuple(right(p))]\n",
    "        if(end not in neighbors):\n",
    "            neighbors = np.append(neighbors, end)\n",
    "            g.add_edge(g.vertex(start), g.vertex(end))\n",
    "            add_lattice_edges(right(p))\n",
    "    except KeyError:\n",
    "        print(\"problemo right\")\n",
    "    try:\n",
    "        end = d[tuple(upper_right(p))]\n",
    "        if(end not in neighbors):\n",
    "            neighbors = np.append(neighbors, end)\n",
    "            g.add_edge(g.vertex(start), g.vertex(end))\n",
    "            add_lattice_edges(upper_right(p))\n",
    "    except KeyError:\n",
    "        print(\"problemo upper_right\")\n",
    "    try:\n",
    "        end = d[tuple(upper_left(p))]\n",
    "        if(end not in neighbors):\n",
    "            neighbors = np.append(neighbors, end)\n",
    "            g.add_edge(g.vertex(start), g.vertex(end))\n",
    "            add_lattice_edges(upper_left(p))\n",
    "    except KeyError:\n",
    "        print(\"problemo upper_left\")\n",
    "    try:\n",
    "        end = d[tuple(left(p))]\n",
    "        if(end not in neighbors):\n",
    "            neighbors = np.append(neighbors, end)\n",
    "            g.add_edge(g.vertex(start), g.vertex(end))\n",
    "            add_lattice_edges(left(p))\n",
    "    except KeyError:\n",
    "        print(\"problemo left\")\n",
    "    neighbors = g.get_out_neighbors(start)\n",
    "    try:\n",
    "        end = d[tuple(lower_left(p))]\n",
    "        if(end not in neighbors):\n",
    "            neighbors = np.append(neighbors, end)\n",
    "            g.add_edge(g.vertex(start), g.vertex(end))\n",
    "            add_lattice_edges(lower_left(p))\n",
    "    except KeyError:\n",
    "        print(\"problemo lower_left\")\n",
    "    try:\n",
    "        end = d[tuple(lower_right(p))]\n",
    "        if(end not in neighbors):\n",
    "            neighbors = np.append(neighbors, end)\n",
    "            g.add_edge(g.vertex(start), g.vertex(end))\n",
    "            add_lattice_edges(lower_right(p))\n",
    "    except KeyError:\n",
    "        print(\"problemo lower_right\")"
   ]
  },
  {
   "cell_type": "code",
   "execution_count": 373,
   "metadata": {
    "collapsed": true
   },
   "outputs": [],
   "source": [
    "def add_to_dict(point, vertex_index):\n",
    "    d[tuple(point)] = vertex_index"
   ]
  },
  {
   "cell_type": "code",
   "execution_count": 374,
   "metadata": {
    "collapsed": true
   },
   "outputs": [],
   "source": [
    "def add_vertex(p):\n",
    "    if tuple(p) not in d:\n",
    "        v = g.add_vertex()\n",
    "        add_to_dict(tuple(p), v)\n",
    "        pos[v] = p"
   ]
  },
  {
   "cell_type": "code",
   "execution_count": 375,
   "metadata": {
    "collapsed": true
   },
   "outputs": [],
   "source": [
    "def add_surround_vertices(p):\n",
    "    add_vertex(right(p))\n",
    "    add_vertex(upper_right(p))\n",
    "    add_vertex(upper_left(p))\n",
    "    add_vertex(left(p))\n",
    "    add_vertex(lower_left(p))\n",
    "    add_vertex(lower_right(p))"
   ]
  },
  {
   "cell_type": "code",
   "execution_count": 376,
   "metadata": {},
   "outputs": [
    {
     "name": "stdout",
     "output_type": "stream",
     "text": [
      "[] [ 0.  0.]\n",
      "[0] [ 2.  0.]\n",
      "problemo right\n",
      "problemo upper_right\n",
      "[1] [ 1. -2.]\n",
      "problemo right\n",
      "problemo upper_right\n",
      "problemo upper_left\n",
      "[2] [-1. -2.]\n",
      "problemo upper_right\n",
      "problemo upper_left\n",
      "problemo left\n",
      "[3] [-2.  0.]\n",
      "[1 4] [ 0.  0.]\n",
      "[3 1 0] [ 1. -2.]\n",
      "problemo right\n",
      "problemo upper_right\n",
      "problemo upper_left\n",
      "[4 2 0] [-1. -2.]\n",
      "problemo upper_right\n",
      "problemo upper_left\n",
      "problemo left\n",
      "[0] [-1.  2.]\n",
      "[5] [ 1.  2.]\n",
      "problemo right\n",
      "[2 0 6] [ 2.  0.]\n",
      "problemo right\n",
      "problemo upper_right\n",
      "problemo lower_right\n",
      "[1 2 3 5 4 6] [ 0.  0.]\n",
      "problemo lower_left\n",
      "problemo lower_right\n",
      "[0 3 5] [-2.  0.]\n",
      "problemo upper_left\n",
      "problemo left\n",
      "problemo lower_left\n",
      "problemo left\n",
      "problemo lower_left\n",
      "problemo lower_right\n",
      "[1 0 5 0] [ 1.  2.]\n",
      "problemo right\n",
      "problemo lower_left\n",
      "problemo lower_right\n",
      "problemo upper_left\n",
      "problemo left\n",
      "problemo lower_left\n",
      "[1 2 3 5 6 6 4 3] [ 0.  0.]\n",
      "problemo lower_right\n",
      "[3 1 0 0] [ 1. -2.]\n",
      "problemo right\n",
      "problemo upper_right\n",
      "problemo upper_left\n",
      "[4 0 0 2 0] [-1. -2.]\n",
      "problemo upper_right\n",
      "problemo upper_left\n",
      "problemo left\n",
      "[0 3 5 0] [-2.  0.]\n",
      "problemo upper_left\n",
      "problemo left\n",
      "problemo lower_left\n"
     ]
    },
    {
     "data": {
      "image/png": "[encoded data removed]",
      "text/plain": [
       "<IPython.core.display.Image object>"
      ]
     },
     "metadata": {},
     "output_type": "display_data"
    },
    {
     "data": {
      "text/plain": [
       "<PropertyMap object with key type 'Vertex' and value type 'vector<double>', for Graph 0x7f980342c400, at 0x7f9803337668>"
      ]
     },
     "execution_count": 376,
     "metadata": {},
     "output_type": "execute_result"
    }
   ],
   "source": [
    "g = Graph(directed=False)\n",
    "g.add_vertex(7)\n",
    "\n",
    "pos = g.new_vertex_property(\"vector<double>\")\n",
    "orig = np.array([0.,0.])\n",
    "pos[0] = orig\n",
    "pos[1] = right(orig)\n",
    "pos[2] = upper_right(orig)\n",
    "pos[3] = upper_left(orig)\n",
    "pos[4] = left(orig)\n",
    "pos[5] = lower_left(orig)\n",
    "pos[6] = lower_right(orig)\n",
    "\n",
    "add_to_dict(orig, 0)\n",
    "add_to_dict(right(orig), 1)\n",
    "add_to_dict(upper_right(orig), 2)\n",
    "add_to_dict(upper_left(orig), 3)\n",
    "add_to_dict(left(orig), 4)\n",
    "add_to_dict(lower_left(orig), 5)\n",
    "add_to_dict(lower_right(orig), 6)\n",
    "\n",
    "add_lattice_edges(orig)\n",
    "\n",
    "graph_draw(g, pos=pos, vertex_font_size=18,\n",
    "            output_size=(200, 200), output=\"two-nodes.png\")"
   ]
  },
  {
   "cell_type": "code",
   "execution_count": 379,
   "metadata": {},
   "outputs": [
    {
     "name": "stdout",
     "output_type": "stream",
     "text": [
      "[2 7 9 8 8 6 0] [ 2.  0.]\n"
     ]
    },
    {
     "data": {
      "image/png": "[encoded data removed]",
      "text/plain": [
       "<IPython.core.display.Image object>"
      ]
     },
     "metadata": {},
     "output_type": "display_data"
    },
    {
     "data": {
      "text/plain": [
       "<PropertyMap object with key type 'Vertex' and value type 'vector<double>', for Graph 0x7f980342c400, at 0x7f9803337668>"
      ]
     },
     "execution_count": 379,
     "metadata": {},
     "output_type": "execute_result"
    }
   ],
   "source": [
    "add_surround_vertices(right(orig))\n",
    "\n",
    "add_lattice_edges(right(orig))\n",
    "\n",
    "graph_draw(g, pos=pos, vertex_font_size=18,\n",
    "            output_size=(200, 200), output=\"two-nodes.png\")"
   ]
  },
  {
   "cell_type": "code",
   "execution_count": null,
   "metadata": {
    "collapsed": true
   },
   "outputs": [],
   "source": []
  }
 ],
 "metadata": {
  "kernelspec": {
   "display_name": "Python 3",
   "language": "python",
   "name": "python3"
  },
  "language_info": {
   "codemirror_mode": {
    "name": "ipython",
    "version": 3
   },
   "file_extension": ".py",
   "mimetype": "text/x-python",
   "name": "python",
   "nbconvert_exporter": "python",
   "pygments_lexer": "ipython3",
   "version": "3.6.5"
  }
 },
 "nbformat": 4,
 "nbformat_minor": 2
}
