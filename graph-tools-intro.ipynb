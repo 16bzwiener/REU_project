{
 "cells": [
  {
   "cell_type": "code",
   "execution_count": 24,
   "metadata": {},
   "outputs": [
    {
     "data": {
      "text/plain": [
       "'g = Graph()\\ng.set_directed(False)\\nv1 = g.add_vertex(7)\\n\\npos = g.new_vertex_property(\"vector<double>\")\\npos[g.vertex(0)] = (0, 0)\\npos[g.vertex(1)] = (1, 2)\\npos[g.vertex(2)] = (2, 0)\\npos[g.vertex(3)] = (1, -2)\\npos[g.vertex(6)] = (-1, 2)\\npos[g.vertex(5)] = (-2, 0)\\npos[g.vertex(4)] = (-1, -2)\\n\\nfor i in range(6):\\n    g.add_edge(g.vertex(0), g.vertex(i+1))\\n    if i == 5:\\n        g.add_edge(g.vertex(6), g.vertex(1))\\n        break\\n    g.add_edge(g.vertex(i+1), g.vertex(i+2))\\n    \\n\\n    \\ngraph_draw(g, pos=pos, vertex_text=g.vertex_index, vertex_font_size=18,\\n            output_size=(200, 200), output=\"two-nodes.png\")\\n'"
      ]
     },
     "execution_count": 24,
     "metadata": {},
     "output_type": "execute_result"
    }
   ],
   "source": [
    "'''g = Graph()\n",
    "g.set_directed(False)\n",
    "v1 = g.add_vertex(7)\n",
    "\n",
    "pos = g.new_vertex_property(\"vector<double>\")\n",
    "pos[g.vertex(0)] = (0, 0)\n",
    "pos[g.vertex(1)] = (1, 2)\n",
    "pos[g.vertex(2)] = (2, 0)\n",
    "pos[g.vertex(3)] = (1, -2)\n",
    "pos[g.vertex(6)] = (-1, 2)\n",
    "pos[g.vertex(5)] = (-2, 0)\n",
    "pos[g.vertex(4)] = (-1, -2)\n",
    "\n",
    "for i in range(6):\n",
    "    g.add_edge(g.vertex(0), g.vertex(i+1))\n",
    "    if i == 5:\n",
    "        g.add_edge(g.vertex(6), g.vertex(1))\n",
    "        break\n",
    "    g.add_edge(g.vertex(i+1), g.vertex(i+2))\n",
    "    \n",
    "\n",
    "    \n",
    "graph_draw(g, pos=pos, vertex_text=g.vertex_index, vertex_font_size=18,\n",
    "            output_size=(200, 200), output=\"two-nodes.png\")\n",
    "'''"
   ]
  },
  {
   "cell_type": "code",
   "execution_count": 72,
   "metadata": {},
   "outputs": [
    {
     "data": {
      "image/png": "[encoded data removed]",
      "text/plain": [
       "<IPython.core.display.Image object>"
      ]
     },
     "metadata": {},
     "output_type": "display_data"
    },
    {
     "data": {
      "image/png": "[encoded data removed]",
      "text/plain": [
       "<IPython.core.display.Image object>"
      ]
     },
     "metadata": {},
     "output_type": "display_data"
    },
    {
     "data": {
      "image/png": "[encoded data removed]",
      "text/plain": [
       "<IPython.core.display.Image object>"
      ]
     },
     "metadata": {},
     "output_type": "display_data"
    },
    {
     "ename": "TypeError",
     "evalue": "unhashable type: 'numpy.ndarray'",
     "output_type": "error",
     "traceback": [
      "\u001b[0;31m---------------------------------------------------------------------------\u001b[0m",
      "\u001b[0;31mTypeError\u001b[0m                                 Traceback (most recent call last)",
      "\u001b[0;32m<ipython-input-72-7d303b279393>\u001b[0m in \u001b[0;36m<module>\u001b[0;34m()\u001b[0m\n\u001b[1;32m    132\u001b[0m \u001b[0madd_surround_vertices\u001b[0m\u001b[0;34m(\u001b[0m\u001b[0mupper_right\u001b[0m\u001b[0;34m(\u001b[0m\u001b[0mright\u001b[0m\u001b[0;34m(\u001b[0m\u001b[0mright\u001b[0m\u001b[0;34m(\u001b[0m\u001b[0morig\u001b[0m\u001b[0;34m)\u001b[0m\u001b[0;34m)\u001b[0m\u001b[0;34m)\u001b[0m\u001b[0;34m)\u001b[0m\u001b[0;34m\u001b[0m\u001b[0m\n\u001b[1;32m    133\u001b[0m \u001b[0;34m\u001b[0m\u001b[0m\n\u001b[0;32m--> 134\u001b[0;31m \u001b[0mg\u001b[0m\u001b[0;34m.\u001b[0m\u001b[0madd_edge\u001b[0m\u001b[0;34m(\u001b[0m\u001b[0mg\u001b[0m\u001b[0;34m.\u001b[0m\u001b[0mvertex\u001b[0m\u001b[0;34m(\u001b[0m\u001b[0md\u001b[0m\u001b[0;34m[\u001b[0m\u001b[0mtuple\u001b[0m\u001b[0;34m(\u001b[0m\u001b[0morig\u001b[0m\u001b[0;34m)\u001b[0m\u001b[0;34m]\u001b[0m\u001b[0;34m)\u001b[0m\u001b[0;34m,\u001b[0m \u001b[0mg\u001b[0m\u001b[0;34m.\u001b[0m\u001b[0mvertex\u001b[0m\u001b[0;34m(\u001b[0m\u001b[0md\u001b[0m\u001b[0;34m[\u001b[0m\u001b[0mright\u001b[0m\u001b[0;34m(\u001b[0m\u001b[0mtuple\u001b[0m\u001b[0;34m(\u001b[0m\u001b[0morig\u001b[0m\u001b[0;34m)\u001b[0m\u001b[0;34m)\u001b[0m\u001b[0;34m]\u001b[0m\u001b[0;34m)\u001b[0m\u001b[0;34m)\u001b[0m\u001b[0;34m\u001b[0m\u001b[0m\n\u001b[0m\u001b[1;32m    135\u001b[0m \u001b[0;34m\u001b[0m\u001b[0m\n\u001b[1;32m    136\u001b[0m graph_draw(g, pos=pos, vertex_font_size=18,\n",
      "\u001b[0;31mTypeError\u001b[0m: unhashable type: 'numpy.ndarray'"
     ]
    }
   ],
   "source": [
    "from graph_tool.all import *\n",
    "import numpy as np\n",
    "\n",
    "d = dict()\n",
    "g = Graph(directed=False)\n",
    "pos = g.new_vertex_property(\"vector<double>\")\n",
    "\n",
    "def right(point: np.ndarray) -> np.ndarray:\n",
    "    return (point + np.array([2,0]))\n",
    "\n",
    "def left(point: np.ndarray) -> np.ndarray:\n",
    "    return (point + np.array([-2,0]))\n",
    "\n",
    "def upper_right(point: np.ndarray) -> np.ndarray:\n",
    "    return (point + np.array([1,-2]))\n",
    "\n",
    "def lower_right(point: np.ndarray) -> np.ndarray:\n",
    "    return (point + np.array([1,2]))\n",
    "\n",
    "def upper_left(point: np.ndarray) -> np.ndarray:\n",
    "    return (left(upper_right(point)))\n",
    "\n",
    "def lower_left(point: np.ndarray) -> np.ndarray:\n",
    "    return (left(lower_right(point)))\n",
    "\n",
    "def add_lattice_edges(p):\n",
    "    start = d[tuple(p)]\n",
    "    neighbors = g.get_out_neighbors(start)\n",
    "    print(neighbors, p)\n",
    "    end = 0\n",
    "    try:\n",
    "        end = d[tuple(right(p))]\n",
    "        if(end not in neighbors):\n",
    "            neighbors = np.append(neighbors, end)\n",
    "            g.add_edge(g.vertex(start), g.vertex(end))\n",
    "            add_lattice_edges(right(p))\n",
    "    except KeyError:\n",
    "        print(\"problemo right\")\n",
    "    try:\n",
    "        end = d[tuple(upper_right(p))]\n",
    "        if(end not in neighbors):\n",
    "            neighbors = np.append(neighbors, end)\n",
    "            g.add_edge(g.vertex(start), g.vertex(end))\n",
    "            add_lattice_edges(upper_right(p))\n",
    "    except KeyError:\n",
    "        print(\"problemo upper_right\")\n",
    "    try:\n",
    "        end = d[tuple(upper_left(p))]\n",
    "        if(end not in neighbors):\n",
    "            neighbors = np.append(neighbors, end)\n",
    "            g.add_edge(g.vertex(start), g.vertex(end))\n",
    "            add_lattice_edges(upper_left(p))\n",
    "    except KeyError:\n",
    "        print(\"problemo upper_left\")\n",
    " #self.generateLattice()   try:\n",
    "        end = d[tuple(left(p))]\n",
    "        if(end not in neighbors):\n",
    "            neighbors = np.append(neighbors, end)\n",
    "            g.add_edge(g.vertex(start), g.vertex(end))\n",
    "            add_lattice_edges(left(p))\n",
    "    except KeyError:\n",
    "        print(\"problemo left\")\n",
    "    neighbors = g.get_out_neighbors(start)\n",
    "    try:\n",
    "        end = d[tuple(lower_left(p))]\n",
    "        if(end not in neighbors):\n",
    "            neighbors = np.append(neighbors, end)\n",
    "            g.add_edge(g.vertex(start), g.vertex(end))\n",
    "            add_lattice_edges(lower_left(p))\n",
    "    except KeyError:\n",
    "        print(\"problemo lower_left\")\n",
    "    try:\n",
    "        end = d[tuple(lower_right(p))]\n",
    "        if(end not in neighbors):\n",
    "            neighbors = np.append(neighbors, end)\n",
    "            g.add_edge(g.vertex(start), g.vertex(end))\n",
    "            add_lattice_edges(lower_right(p))\n",
    "    except KeyError:\n",
    "        print(\"problemo lower_right\")\n",
    "\n",
    "def add_to_dict(point, vertex_index):\n",
    "    d[tuple(point)] = vertex_index\n",
    "\n",
    "def add_vertex(p):\n",
    "    if tuple(p) not in d:\n",
    "        v = g.add_vertex()\n",
    "        add_to_dict(tuple(p), v)\n",
    "        pos[v] = p\n",
    "        \n",
    "def add_surround_vertices(p):\n",
    "    add_vertex(right(p))\n",
    "    add_vertex(upper_right(p))\n",
    "    add_vertex(upper_left(p))\n",
    "    add_vertex(left(p))\n",
    "    add_vertex(lower_left(p))\n",
    "    add_vertex(lower_right(p))\n",
    "    \n",
    "g = Graph(directed=False)\n",
    "g.add_vertex(7)\n",
    "\n",
    "pos = g.new_vertex_property(\"vector<double>\")\n",
    "orig = np.array([0.,0.])\n",
    "pos[0] = orig\n",
    "pos[1] = right(orig)\n",
    "pos[2] = upper_right(orig)\n",
    "pos[3] = upper_left(orig)\n",
    "pos[4] = left(orig)\n",
    "pos[5] = lower_left(orig)\n",
    "pos[6] = lower_right(orig)\n",
    "\n",
    "add_to_dict(orig, 0)\n",
    "add_to_dict(right(orig), 1)\n",
    "add_to_dict(upper_right(orig), 2)\n",
    "add_to_dict(upper_left(orig), 3)\n",
    "add_to_dict(left(orig), 4)\n",
    "add_to_dict(lower_left(orig), 5)\n",
    "add_to_dict(lower_right(orig), 6)\n",
    "\n",
    "graph_draw(g, pos=pos, vertex_font_size=18,\n",
    "            output_size=(200, 200), output=\"two-nodes.png\")\n",
    "\n",
    "add_surround_vertices(right(orig))\n",
    "\n",
    "graph_draw(g, pos=pos, vertex_font_size=18,\n",
    "            output_size=(200, 200), output=\"two-nodes.png\")\n",
    "\n",
    "add_surround_vertices(right(right(orig)))\n",
    "\n",
    "graph_draw(g, pos=pos, vertex_font_size=18,\n",
    "            output_size=(200, 200), output=\"two-nodes.png\")\n",
    "\n",
    "add_surround_vertices(upper_right(right(right(orig))))\n",
    "\n",
    "graph_draw(g, pos=pos, vertex_font_size=18,\n",
    "            output_size=(200, 200), output=\"two-nodes.png\")\n",
    "print(len(pos))"
   ]
  },
  {
   "cell_type": "code",
   "execution_count": null,
   "metadata": {},
   "outputs": [],
   "source": []
  }
 ],
 "metadata": {
  "kernelspec": {
   "display_name": "Python 3",
   "language": "python",
   "name": "python3"
  },
  "language_info": {
   "codemirror_mode": {
    "name": "ipython",
    "version": 3
   },
   "file_extension": ".py",
   "mimetype": "text/x-python",
   "name": "python",
   "nbconvert_exporter": "python",
   "pygments_lexer": "ipython3",
   "version": "3.6.4"
  }
 },
 "nbformat": 4,
 "nbformat_minor": 2
}
